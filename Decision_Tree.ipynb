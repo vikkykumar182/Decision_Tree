{
 "cells": [
  {
   "cell_type": "code",
   "execution_count": 1,
   "id": "1b171adc-f67f-492d-a7e2-1d0bcf146f00",
   "metadata": {},
   "outputs": [
    {
     "name": "stdout",
     "output_type": "stream",
     "text": [
      "[1 2 1 0 2 0 1 2 2 2 2 0 0 0 2 2 0 2 1 0 1 2 0 0 1 2 1 1 0 2]\n",
      "\n",
      "Accuracy :  0.9666666666666667\n",
      "Precision :  0.9722222222222222\n",
      "Recall :  0.9629629629629629\n",
      "F1-SCORE :  0.9658994032395567\n",
      "AUC :  0.9727095516569201\n"
     ]
    }
   ],
   "source": [
    "from sklearn import datasets\n",
    "iris = datasets.load_iris()\n",
    "\n",
    "x = iris.data\n",
    "y = iris.target\n",
    "\n",
    "from sklearn.model_selection import train_test_split\n",
    "x_train, x_test, y_train, y_test = train_test_split(x,y,train_size=0.8)\n",
    "\n",
    "from sklearn.tree import DecisionTreeClassifier\n",
    "DT = DecisionTreeClassifier()\n",
    "\n",
    "train = DT.fit(x_train, y_train)\n",
    "y_pred = DT.predict(x_test)\n",
    "print(y_pred)\n",
    "y_auc = DT.predict_proba(x_test)\n",
    "\n",
    "from sklearn.metrics import accuracy_score, precision_score, recall_score, f1_score, roc_auc_score\n",
    "Accuracy = accuracy_score(y_test, y_pred)\n",
    "Precision = precision_score(y_test, y_pred, average='macro')\n",
    "Recall = recall_score(y_test, y_pred, average='macro')\n",
    "f1 = f1_score(y_test, y_pred, average='macro')\n",
    "auc = roc_auc_score(y_test, y_auc, multi_class='ovr')\n",
    "\n",
    "print(\"\\nAccuracy : \", Accuracy)\n",
    "print(\"Precision : \", Precision)\n",
    "print(\"Recall : \", Recall)\n",
    "print(\"F1-SCORE : \", f1)\n",
    "print(\"AUC : \", auc)"
   ]
  },
  {
   "cell_type": "code",
   "execution_count": null,
   "id": "40c92c28-e104-4a8f-873e-cb9342a40f9b",
   "metadata": {},
   "outputs": [],
   "source": []
  }
 ],
 "metadata": {
  "kernelspec": {
   "display_name": "Python [conda env:base] *",
   "language": "python",
   "name": "conda-base-py"
  },
  "language_info": {
   "codemirror_mode": {
    "name": "ipython",
    "version": 3
   },
   "file_extension": ".py",
   "mimetype": "text/x-python",
   "name": "python",
   "nbconvert_exporter": "python",
   "pygments_lexer": "ipython3",
   "version": "3.11.5"
  }
 },
 "nbformat": 4,
 "nbformat_minor": 5
}
